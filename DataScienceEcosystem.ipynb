{
 "cells": [
  {
   "cell_type": "markdown",
   "id": "ac88cdd2-a084-4b2e-9df3-1abbee00f35b",
   "metadata": {},
   "source": [
    "# Data Science Tools and Ecosystem"
   ]
  },
  {
   "cell_type": "markdown",
   "id": "bec4af48-c45a-48e2-8e31-eedc77335330",
   "metadata": {},
   "source": [
    "In this notebook, Data Science Tools and Ecosystem are summarized"
   ]
  },
  {
   "cell_type": "markdown",
   "id": "a4604569-5bcf-457a-9452-efd804314046",
   "metadata": {},
   "source": [
    "**Objectives:**"
   ]
  },
  {
   "cell_type": "markdown",
   "id": "fef6dae7-d6b3-4fc2-9b7d-55dd1515fbf0",
   "metadata": {},
   "source": [
    "Gain an understanding of the field of data science and its significance in various industries.\n",
    "Explore and familiarize ourselves with the diverse range of tools available for data science.\n",
    "Learn about the different stages of the data science workflow, from data acquisition to model deployment.\n",
    "Dive into specific tools and libraries commonly used in data science, such as Python, R, and SQL.\n",
    "Discover the vast ecosystem surrounding data science, including frameworks, libraries, and platforms."
   ]
  },
  {
   "cell_type": "markdown",
   "id": "495fca1d-24ea-4ffa-ab2e-1c19dab16297",
   "metadata": {},
   "source": [
    "In this notebook, we will delve into the realm of data science, exploring the vast array of tools and the rich ecosystem that supports this transformative field of study."
   ]
  },
  {
   "cell_type": "markdown",
   "id": "f2d5f869-c4fe-4992-8232-08107635eea1",
   "metadata": {},
   "source": [
    "Some of the popular languages that Data Scientists use are:"
   ]
  },
  {
   "cell_type": "markdown",
   "id": "e8e0cc14-82ce-4cf5-b8ef-3511d73ed128",
   "metadata": {},
   "source": [
    "- Python\n",
    "- R\n",
    "- SQL\n",
    "- Julia\n",
    "- Scala"
   ]
  },
  {
   "cell_type": "markdown",
   "id": "e278363c-48bb-4707-82e4-8b41e5e5319b",
   "metadata": {},
   "source": [
    "Some of the commonly used libraries used by Data Scientists include:"
   ]
  },
  {
   "cell_type": "markdown",
   "id": "b6049d8a-1896-4ce5-8efb-8281a8cee85e",
   "metadata": {},
   "source": [
    "\n",
    "1. NumPy: A fundamental library for scientific computing in Python, providing support for large, multi-dimensional arrays and mathematical functions.\n",
    "\n",
    "2. Pandas: A powerful library for data manipulation and analysis, offering data structures like DataFrames that simplify data handling and preprocessing.\n",
    "\n",
    "3. Matplotlib: A plotting library in Python that enables the creation of various types of static, animated, and interactive visualizations.\n",
    "\n",
    "4. scikit-learn: A comprehensive machine learning library that includes algorithms for classification, regression, clustering, dimensionality reduction, and more.\n",
    "\n",
    "5. TensorFlow: An open-source library developed by Google for building and training deep learning models, featuring a flexible architecture and support for neural networks."
   ]
  },
  {
   "cell_type": "markdown",
   "id": "4cec7e86-5438-462a-844f-f4d11377290c",
   "metadata": {},
   "source": [
    "| Data Science Tools |\n",
    " ------------------- \n",
    "| Jupyter Notebook |\n",
    "| Apache Zeppelin |\n",
    "| RStudio |\n"
   ]
  },
  {
   "cell_type": "markdown",
   "id": "c7d99382-0960-45da-9381-358bafa35604",
   "metadata": {
    "tags": []
   },
   "source": [
    "### Below are a few examples of evaluating arithmetic expressions in Python"
   ]
  },
  {
   "cell_type": "markdown",
   "id": "e8d51421-72b9-48a2-a4ed-0288a4add140",
   "metadata": {},
   "source": [
    "Evaluate arithmetic expression: 5 + 3 * 2"
   ]
  },
  {
   "cell_type": "markdown",
   "id": "842d4f5c-2c0b-4cdf-a46f-2bb5fc22c2d9",
   "metadata": {},
   "source": [
    "result = 5 + 3 * 2"
   ]
  },
  {
   "cell_type": "markdown",
   "id": "9525d3a6-3ce9-4982-9c31-ba1db4b6c12d",
   "metadata": {},
   "source": [
    "Output = 11"
   ]
  },
  {
   "cell_type": "markdown",
   "id": "9a58b53b-7550-4d0e-8ca0-6a182a8bd316",
   "metadata": {},
   "source": [
    "Evaluate arithmetic expression: (4 + 6) / 2\n"
   ]
  },
  {
   "cell_type": "markdown",
   "id": "155b633d-fb38-4f57-8917-dae7af64009c",
   "metadata": {},
   "source": [
    "result = (4 + 6) / 2"
   ]
  },
  {
   "cell_type": "markdown",
   "id": "3e1f46e3-6b09-4eda-b09e-7e10389bd648",
   "metadata": {},
   "source": [
    "Ouput = 5.0"
   ]
  },
  {
   "cell_type": "markdown",
   "id": "3f84c451-0365-4644-a598-cd6871e9868c",
   "metadata": {},
   "source": [
    "Evaluate arithmetic expression: 2 ** 3 + 1"
   ]
  },
  {
   "cell_type": "markdown",
   "id": "cac56706-12b9-4a7d-bc89-791977aabdd1",
   "metadata": {
    "tags": []
   },
   "source": [
    "result = 2 ** 3 + 1"
   ]
  },
  {
   "cell_type": "markdown",
   "id": "4bc10a91-0e4a-4e97-a49c-7ef24ffec506",
   "metadata": {},
   "source": [
    "Output = 9"
   ]
  },
  {
   "cell_type": "markdown",
   "id": "f6933f10-004e-4fc0-ac5d-4ec0a713e9b9",
   "metadata": {},
   "source": [
    "In a Markdown cell of a Jupyter Notebook, you can enclose the Python code within triple backticks with the \"python\" language identifier. The output of the expression will be displayed below the code when the cell is executed."
   ]
  },
  {
   "cell_type": "code",
   "execution_count": 3,
   "id": "8549594a-eb60-433a-b71a-2e27790eca9b",
   "metadata": {
    "tags": []
   },
   "outputs": [],
   "source": [
    "# This is a simple arithmetic expression to multiply then add integers."
   ]
  },
  {
   "cell_type": "code",
   "execution_count": 4,
   "id": "d342ffaa-4dcd-47c0-b4ca-2906f73947cc",
   "metadata": {
    "tags": []
   },
   "outputs": [
    {
     "data": {
      "text/plain": [
       "17"
      ]
     },
     "execution_count": 4,
     "metadata": {},
     "output_type": "execute_result"
    }
   ],
   "source": [
    "(3*4)+5"
   ]
  },
  {
   "cell_type": "code",
   "execution_count": 6,
   "id": "7c78c0b3-9ff9-4e12-8d8f-af0205cfe31c",
   "metadata": {
    "tags": []
   },
   "outputs": [
    {
     "data": {
      "text/plain": [
       "3.3333333333333335"
      ]
     },
     "execution_count": 6,
     "metadata": {},
     "output_type": "execute_result"
    }
   ],
   "source": [
    "# This will convert 200 minutes to hours by dividing by 60.\n",
    "minutes = 200\n",
    "hours = minutes / 60\n",
    "hours"
   ]
  },
  {
   "cell_type": "markdown",
   "id": "aae635dd-9bd7-494d-b76a-da8b73404a5c",
   "metadata": {},
   "source": [
    "## Author"
   ]
  },
  {
   "cell_type": "markdown",
   "id": "108405ad-8c3e-435b-a7a6-b5d770a53a5b",
   "metadata": {
    "tags": []
   },
   "source": [
    "Balasandar K"
   ]
  },
  {
   "cell_type": "code",
   "execution_count": null,
   "id": "39835873-ea6e-49b8-bc5e-db09e6fd523d",
   "metadata": {},
   "outputs": [],
   "source": []
  }
 ],
 "metadata": {
  "kernelspec": {
   "display_name": "Python",
   "language": "python",
   "name": "conda-env-python-py"
  },
  "language_info": {
   "codemirror_mode": {
    "name": "ipython",
    "version": 3
   },
   "file_extension": ".py",
   "mimetype": "text/x-python",
   "name": "python",
   "nbconvert_exporter": "python",
   "pygments_lexer": "ipython3",
   "version": "3.7.12"
  }
 },
 "nbformat": 4,
 "nbformat_minor": 5
}
